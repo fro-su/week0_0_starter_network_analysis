{
 "cells": [
  {
   "cell_type": "markdown",
   "metadata": {},
   "source": [
    "creating ml feature tables in postgres sql"
   ]
  },
  {
   "cell_type": "code",
   "execution_count": 19,
   "metadata": {},
   "outputs": [
    {
     "name": "stdout",
     "output_type": "stream",
     "text": [
      "Tables created successfully.\n"
     ]
    }
   ],
   "source": [
    "import psycopg2\n",
    "\n",
    "dbname = \"ml_feature\"\n",
    "user = \"postgres\"\n",
    "password = \"12345\"\n",
    "host = \"localhost\"\n",
    "port = 5432\n",
    "\n",
    "# Connect to the existing database\n",
    "conn = psycopg2.connect(dbname=dbname, user=user, password=password, host=host, port=port)\n",
    "\n",
    "# Set isolation level to autocommit\n",
    "conn.set_isolation_level(ISOLATION_LEVEL_AUTOCOMMIT)\n",
    "\n",
    "with conn.cursor() as cursor:\n",
    "    try:\n",
    "        # Your table creation code\n",
    "        cursor.execute(\"\"\"\n",
    "            CREATE TABLE numerical_features (\n",
    "                id SERIAL PRIMARY KEY,\n",
    "                reply_count INT,\n",
    "                reply_users_count INT\n",
    "            );\n",
    "        \"\"\")\n",
    "\n",
    "        cursor.execute(\"\"\"\n",
    "            CREATE TABLE categorical_features (\n",
    "                id SERIAL PRIMARY KEY,\n",
    "                msg_type VARCHAR(255),\n",
    "                sender_name VARCHAR(255),\n",
    "                msg_dist_type VARCHAR(255),\n",
    "                channel VARCHAR(255),\n",
    "                topic VARCHAR(255)\n",
    "            );\n",
    "        \"\"\")\n",
    "\n",
    "        cursor.execute(\"\"\"\n",
    "            CREATE TABLE text_features (\n",
    "                id SERIAL PRIMARY KEY,\n",
    "                msg_content TEXT\n",
    "            );\n",
    "        \"\"\")\n",
    "\n",
    "        cursor.execute(\"\"\"\n",
    "            CREATE TABLE sentimental_features (\n",
    "                id SERIAL PRIMARY KEY,\n",
    "                sentiment_score FLOAT\n",
    "            );\n",
    "        \"\"\")\n",
    "\n",
    "        cursor.execute(\"\"\"\n",
    "            CREATE TABLE main_data (\n",
    "                id SERIAL PRIMARY KEY,\n",
    "                numerical_id INT REFERENCES numerical_features(id),\n",
    "                categorical_id INT REFERENCES categorical_features(id),\n",
    "                text_id INT REFERENCES text_features(id),\n",
    "                sentimental_id INT REFERENCES sentimental_features(id),\n",
    "                msg_sent_time TIMESTAMP,\n",
    "                time_thread_start TIMESTAMP,\n",
    "                tm_thread_end TIMESTAMP\n",
    "            );\n",
    "        \"\"\")\n",
    "\n",
    "        print(\"Tables created successfully.\")\n",
    "    except psycopg2.Error as e:\n",
    "        print(f\"Error creating tables: {e}\")\n",
    "\n",
    "# Commit changes and close the connection\n",
    "conn.commit()\n",
    "conn.close()\n"
   ]
  },
  {
   "cell_type": "markdown",
   "metadata": {},
   "source": [
    "Load all the relevant features into the database"
   ]
  },
  {
   "cell_type": "code",
   "execution_count": null,
   "metadata": {},
   "outputs": [],
   "source": [
    "import pandas as pd\n",
    "import psycopg2\n",
    "from sqlalchemy import create_engine\n",
    "\n",
    "\n",
    "numerical_features_df = pd.read_csv(\"numerical_features.csv\")\n",
    "categorical_features_df = pd.read_csv(\"categorical_features.csv\")\n",
    "text_features_df = pd.read_csv(\"text_features.csv\")\n",
    "sentimental_features_df = pd.read_csv(\"sentimental_features.csv\")\n",
    "\n",
    "\n",
    "ml_feature_df = pd.concat([\n",
    "    numerical_features_df,\n",
    "    categorical_features_df,\n",
    "    text_features_df,\n",
    "    sentimental_features_df\n",
    "], axis=1)\n",
    "\n",
    "dbname = \"ml_feature\"\n",
    "user = \"postgres\"\n",
    "password = \"12345\"\n",
    "host = \"localhost\"\n",
    "port = 5432\n",
    "\n",
    "\n",
    "engine = create_engine(f\"postgresql://{user}:{password}@{host}:{port}/{dbname}\")\n",
    "\n",
    "\n",
    "ml_feature_table_name = \"ml_feature_data\"\n",
    "\n",
    "\n",
    "ml_feature_df.to_sql(ml_feature_table_name, engine, if_exists='replace', index=False)\n",
    "\n",
    "print(\"Combined features inserted into the PostgreSQL table successfully.\")\n"
   ]
  },
  {
   "cell_type": "code",
   "execution_count": null,
   "metadata": {},
   "outputs": [],
   "source": []
  }
 ],
 "metadata": {
  "kernelspec": {
   "display_name": "env",
   "language": "python",
   "name": "python3"
  },
  "language_info": {
   "codemirror_mode": {
    "name": "ipython",
    "version": 3
   },
   "file_extension": ".py",
   "mimetype": "text/x-python",
   "name": "python",
   "nbconvert_exporter": "python",
   "pygments_lexer": "ipython3",
   "version": "3.11.6"
  }
 },
 "nbformat": 4,
 "nbformat_minor": 2
}
