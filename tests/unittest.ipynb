{
 "cells": [
  {
   "cell_type": "code",
   "execution_count": null,
   "metadata": {},
   "outputs": [],
   "source": [
    "import unittest\n",
    "import sys\n",
    "sys.path.append(\"..\")\n",
    "\n",
    "from src.loader import SlackDataLoader\n",
    "\n",
    "data_loader =  SlackDataLoader\n",
    "\n",
    "slack_data = data_loader.slack_parser('../data/all-week1/')\n",
    "\n",
    "\n",
    "class SlackDataTest(unittest.TestCase):\n",
    "    expected_columns = ['msg_type', 'msg_content', 'sender_name', 'msg_sent_time',\n",
    "               'msg_dist_type', 'time_thread_start', 'reply_count',\n",
    "               'reply_users_count', 'reply_users', 'tm_thread_end', 'channel']\n",
    "    \n",
    "    def test_columns_equal(self):\n",
    "        self.assertEqual(list(slack_data.columns), self.expected_columns)\n",
    "\n",
    "if __name__ == '__main__':\n",
    "    unittest.main()"
   ]
  }
 ],
 "metadata": {
  "kernelspec": {
   "display_name": "Python 3",
   "language": "python",
   "name": "python3"
  },
  "language_info": {
   "codemirror_mode": {
    "name": "ipython",
    "version": 3
   },
   "file_extension": ".py",
   "mimetype": "text/x-python",
   "name": "python",
   "nbconvert_exporter": "python",
   "pygments_lexer": "ipython3",
   "version": "3.10.6"
  }
 },
 "nbformat": 4,
 "nbformat_minor": 2
}
